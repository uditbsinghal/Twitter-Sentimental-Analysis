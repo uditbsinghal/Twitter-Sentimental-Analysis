COURSE PROJECT:

NAME: UDIT SINGHAL(1710989) & SARVESH THORVE(1710828)
CLASS: TYD-75 & TYD-74


{
 "cells": [
  {
   "cell_type": "code",
   "execution_count": 1,
   "metadata": {},
   "outputs": [],
   "source": [
    "import pandas as pd\n",
    "from sklearn.feature_extraction.text import CountVectorizer\n",
    "from sklearn.feature_extraction.text import TfidfTransformer \n",
    "\n",
    "from sklearn.naive_bayes import MultinomialNB"
   ]
  },
  {
   "cell_type": "code",
   "execution_count": null,
   "metadata": {},
   "outputs": [
    {
     "name": "stderr",
     "output_type": "stream",
     "text": [
      "C:\\ProgramData\\Anaconda3\\lib\\site-packages\\sklearn\\utils\\validation.py:578: DataConversionWarning: A column-vector y was passed when a 1d array was expected. Please change the shape of y to (n_samples, ), for example using ravel().\n",
      "  y = column_or_1d(y, warn=True)\n"
     ]
    },
    {
     "name": "stdout",
     "output_type": "stream",
     "text": [
      "Enter the tweet:  he is a good boy\n",
      "Positive tweet ->he is a good boy\n",
      "Enter the tweet:  he is bad boy\n",
      "Negative tweet ->he is bad boy\n",
      "Enter the tweet:  he is a boy\n",
      "Neutral tweet ->he is a boy\n"
     ]
    }
   ],
   "source": [
    "def getStringArrayFromNumpyDataFrame(dataframe):\n",
    "    list=[]\n",
    "    for s in dataframe.values:\n",
    "        if len(str(s[0]))>0:\n",
    "            list.append(str(s[0]))\n",
    "    return list\n",
    "\n",
    "def getEmotions(text,clf):\n",
    "\n",
    "    text=text.split()\n",
    "    X_new_counts = count_vect.transform(text)\n",
    "    X_new_tfidf = tfidf_transformer.transform(X_new_counts).toarray()\n",
    "    \n",
    "    predicted = clf.predict(X_new_tfidf)\n",
    "    positive_count=0\n",
    "    for x in predicted:\n",
    "        if x=='1':\n",
    "            positive_count=positive_count+1\n",
    "    return positive_count;\n",
    "\n",
    "\n",
    "def getEmotionFromText(text):\n",
    "    positives=getEmotions(text,clf_positive)\n",
    "    negatives=getEmotions(text,clf_negative)\n",
    "    bad=getEmotions(text,clf_bad)\n",
    "    if(bad>0):\n",
    "        return(\"Bad tweet ->%s\"%(text))\n",
    "    else:\n",
    "        if(positives-negatives)>0:\n",
    "            return(\"Positive tweet ->%s\"%(text))\n",
    "        elif(negatives-positives)>0:\n",
    "            return(\"Negative tweet ->%s\"%(text))\n",
    "        else:\n",
    "            return(\"Neutral tweet ->%s\"%(text))\n",
    "\n",
    "\n",
    "train_data_csv_name=\"trumpwords.csv\"\n",
    "\n",
    "df_x_words = pd.read_csv(train_data_csv_name,usecols=[2],header=None,dtype='unicode')\n",
    "df_y_positive= pd.read_csv(train_data_csv_name,usecols=[3],header=None,dtype='unicode')\n",
    "df_y_negative= pd.read_csv(train_data_csv_name,usecols=[4],header=None,dtype='unicode')\n",
    "df_y_bad= pd.read_csv(train_data_csv_name,usecols=[5],header=None,dtype='unicode')\n",
    "\n",
    "\n",
    "\n",
    "count_vect = CountVectorizer()\n",
    "X_train_counts = count_vect.fit_transform(getStringArrayFromNumpyDataFrame(df_x_words))\n",
    "tfidf_transformer = TfidfTransformer()\n",
    "X_train_tfidf = tfidf_transformer.fit_transform(X_train_counts)\n",
    "\n",
    "\n",
    "clf_positive = MultinomialNB().fit(X_train_tfidf, df_y_positive)\n",
    "clf_negative = MultinomialNB().fit(X_train_tfidf, df_y_negative)\n",
    "clf_bad = MultinomialNB().fit(X_train_tfidf, df_y_bad)\n",
    "\n",
    "\n",
    "outputfile = open('sentimentanalysis.txt','w')\n",
    "\n",
    "\n",
    "tweet_file_name=\"Trump_Tweets.csv\"\n",
    "with open(tweet_file_name, encoding=\"utf-8\", errors = 'ignore') as f:\n",
    "    for line in f:\n",
    "        try:\n",
    "            inp = input(\"Enter the tweet:  \")\n",
    "            tmpstr=getEmotionFromText(inp)\n",
    "            print(tmpstr)\n",
    "            outputfile.write(tmpstr)\n",
    "        except:\n",
    "            pass\n",
    "\n",
    "        \n",
    "outputfile.close()\n"
   ]
  },
  {
   "cell_type": "code",
   "execution_count": null,
   "metadata": {},
   "outputs": [],
   "source": []
  },
  {
   "cell_type": "code",
   "execution_count": null,
   "metadata": {},
   "outputs": [],
   "source": []
  }
 ],
 "metadata": {
  "kernelspec": {
   "display_name": "Python 3",
   "language": "python",
   "name": "python3"
  },
  "language_info": {
   "codemirror_mode": {
    "name": "ipython",
    "version": 3
   },
   "file_extension": ".py",
   "mimetype": "text/x-python",
   "name": "python",
   "nbconvert_exporter": "python",
   "pygments_lexer": "ipython3",
   "version": "3.7.0"
  }
 },
 "nbformat": 4,
 "nbformat_minor": 2
}
